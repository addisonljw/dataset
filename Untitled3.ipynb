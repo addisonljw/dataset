{
  "nbformat": 4,
  "nbformat_minor": 0,
  "metadata": {
    "colab": {
      "provenance": [],
      "authorship_tag": "ABX9TyNWtN2ZoYF9Dub34sfKSA4R",
      "include_colab_link": true
    },
    "kernelspec": {
      "name": "python3",
      "display_name": "Python 3"
    },
    "language_info": {
      "name": "python"
    }
  },
  "cells": [
    {
      "cell_type": "markdown",
      "metadata": {
        "id": "view-in-github",
        "colab_type": "text"
      },
      "source": [
        "<a href=\"https://colab.research.google.com/github/addisonljw/dataset/blob/main/Untitled3.ipynb\" target=\"_parent\"><img src=\"https://colab.research.google.com/assets/colab-badge.svg\" alt=\"Open In Colab\"/></a>"
      ]
    },
    {
      "cell_type": "code",
      "execution_count": 5,
      "metadata": {
        "id": "kbTG4g3QEgaw"
      },
      "outputs": [],
      "source": [
        "# import all packages and set plots to be embedded inline\n",
        "import numpy as np\n",
        "import pandas as pd\n",
        "\n",
        "%matplotlib inline\n",
        "\n",
        "# suppress warnings from final output\n",
        "import warnings\n",
        "warnings.simplefilter(\"ignore\")\n",
        "\n",
        "#load data\n",
        "df = pd.read_csv('https://raw.githubusercontent.com/addisonljw/dataset/main/vgsales.csv')"
      ]
    },
    {
      "cell_type": "code",
      "source": [
        "df_copy = df.copy()"
      ],
      "metadata": {
        "id": "q9-snRPnF64f"
      },
      "execution_count": 6,
      "outputs": []
    },
    {
      "cell_type": "code",
      "source": [
        "df_copy.dropna(axis=0, how='any',inplace=True)\n"
      ],
      "metadata": {
        "id": "nwxtwxaqGAQL"
      },
      "execution_count": 7,
      "outputs": []
    },
    {
      "cell_type": "code",
      "source": [
        "df_copy.info()\n"
      ],
      "metadata": {
        "colab": {
          "base_uri": "https://localhost:8080/"
        },
        "id": "DxMdDkZCGBoe",
        "outputId": "d8890295-414b-41ee-fcef-af5fecb9a82b"
      },
      "execution_count": 8,
      "outputs": [
        {
          "output_type": "stream",
          "name": "stdout",
          "text": [
            "<class 'pandas.core.frame.DataFrame'>\n",
            "Int64Index: 16291 entries, 0 to 16597\n",
            "Data columns (total 11 columns):\n",
            " #   Column        Non-Null Count  Dtype  \n",
            "---  ------        --------------  -----  \n",
            " 0   Rank          16291 non-null  int64  \n",
            " 1   Name          16291 non-null  object \n",
            " 2   Platform      16291 non-null  object \n",
            " 3   Year          16291 non-null  float64\n",
            " 4   Genre         16291 non-null  object \n",
            " 5   Publisher     16291 non-null  object \n",
            " 6   NA_Sales      16291 non-null  float64\n",
            " 7   EU_Sales      16291 non-null  float64\n",
            " 8   JP_Sales      16291 non-null  float64\n",
            " 9   Other_Sales   16291 non-null  float64\n",
            " 10  Global_Sales  16291 non-null  float64\n",
            "dtypes: float64(6), int64(1), object(4)\n",
            "memory usage: 1.5+ MB\n"
          ]
        }
      ]
    },
    {
      "cell_type": "code",
      "source": [
        "df_copy['Global_Sales'] = df_copy['NA_Sales'] + df_copy['EU_Sales'] + df_copy['JP_Sales']+df_copy['Other_Sales']\n"
      ],
      "metadata": {
        "id": "ShIXaWosGDhV"
      },
      "execution_count": 9,
      "outputs": []
    },
    {
      "cell_type": "code",
      "source": [
        "df_copy[df_copy['Global_Sales'] != df_copy['NA_Sales']+df_copy['EU_Sales']+df_copy['JP_Sales']+df_copy['Other_Sales']].shape[0]\n"
      ],
      "metadata": {
        "colab": {
          "base_uri": "https://localhost:8080/"
        },
        "id": "XqvdE00SGEHM",
        "outputId": "29d48925-82db-4086-b006-54d10a945a1c"
      },
      "execution_count": 10,
      "outputs": [
        {
          "output_type": "execute_result",
          "data": {
            "text/plain": [
              "0"
            ]
          },
          "metadata": {},
          "execution_count": 10
        }
      ]
    },
    {
      "cell_type": "code",
      "source": [
        "# store the file\n",
        "df_copy.reset_index(drop=True)\n",
        "df_copy.to_csv('clean_vgsales.csv')\n"
      ],
      "metadata": {
        "id": "p8cfV7xVGHlZ"
      },
      "execution_count": 11,
      "outputs": []
    }
  ]
}